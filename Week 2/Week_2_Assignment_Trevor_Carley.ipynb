{
 "cells": [
  {
   "cell_type": "markdown",
   "metadata": {},
   "source": [
    "# Assignment\n",
    "\n",
    "Use the \"from the expert\" (FTE) jupyter notebook as a starter for this assignment, and ask your instructor questions if you need help.\n",
    "\n",
    "Use the `churn_data.csv` file to carry out a similar data cleaning and preparation as we did in the FTE. Specifically, at least complete these minimum requirements:\n",
    "\n",
    "- Check for outliers in numeric data, and deal with them if needed\n",
    "- Check for missing values, and decide how to deal with them if needed\n",
    "- Convert categorical columns to numeric values\n",
    "- Create at least one new feature by combining multiple columns. For example, you could calculate the ratio of total charges to tenure. Create at least one plot for your new feature.\n",
    "- Save the data to a csv (or another filetype of your choice) for use next week.\n",
    "- Write a short analysis at the end of the notebook describing your findings and what you did.\n",
    "\n",
    "You can do more data cleaning, preparation, and EDA beyond these basic requirements if you want to learn more and develop your data science skills. For example, you could use a box-cox transformation on the numeric data or try other outlier methods."
   ]
  },
  {
   "cell_type": "markdown",
   "metadata": {
    "heading_collapsed": true
   },
   "source": [
    "### DS process status"
   ]
  },
  {
   "cell_type": "markdown",
   "metadata": {
    "hidden": true
   },
   "source": [
    "Here is our data science process, and where we are (#3):\n",
    "\n",
    "**1. Business understanding**\n",
    "\n",
    "Can we use machine learning to predict if a customer will churn before they leave?\n",
    "\n",
    "**2. Data understanding**\n",
    "\n",
    "Done in week 1 (mostly), this is iterative so you might do more of this as we go on.\n",
    "\n",
    "**3. Data preparation**\n",
    "\n",
    "We are here this week.\n",
    "\n",
    "\n",
    "**4. Modeling**\n",
    "\n",
    "Next week\n",
    "\n",
    "\n",
    "**5. Evaluation**\n",
    "\n",
    "Next week\n",
    "\n",
    "\n",
    "**6. Deployment**\n",
    "\n",
    "Next week"
   ]
  },
  {
   "cell_type": "code",
   "execution_count": 1,
   "metadata": {
    "hidden": true
   },
   "outputs": [],
   "source": [
    "import pandas as pd\n",
    "\n",
    "churn_raw = pd.read_csv('./churn_data.csv')"
   ]
  },
  {
   "cell_type": "code",
   "execution_count": 2,
   "metadata": {},
   "outputs": [
    {
     "data": {
      "text/markdown": [
       "notes\n",
       "(Information used for this section and decisions is from Week 1 charts and EDA)\n",
       "### customerID <br>\n",
       "We can drop this for training the model not going to be useful for predictions <br>\n",
       "\n",
       "\n",
       "### Average Charge\n",
       "* Newly created field, total charges / tenure\n",
       "\n",
       "### tenure\n",
       "* Weighted to both ends of values\n",
       "* No NaNs\n",
       "* 73 distinct values <br>\n",
       "\n",
       "Might be useful to try to 'bin' this data? ~~0-5, 6-10, etc...~~ I'm going to use qcut to ensure bins are evenly populated\n",
       "Then convert those into an ordinal categorical column? <br>\n",
       "\n",
       "### PhoneService\n",
       "* 2 Distinct values t/f\n",
       "* No NaNs\n",
       "* Much more true than false <br>\n",
       "Turn into binary 0/1 column. <br>\n",
       "\n",
       "### Contract\n",
       "* 3 distinct\n",
       "* No NaNs\n",
       "* mostly month-2-month, other 2 cats evenish <br>\n",
       "\n",
       "Onehotencode-1 this one. <br>\n",
       "\n",
       "### PaymentMethod\n",
       "\n",
       "* 4 distinct vals\n",
       "* 3 have pretty even distru, other has a bit more\n",
       "* No NaNs\n",
       "\n",
       "\n",
       "Onehotencode-1 this one too.\n",
       "\n",
       "### MonthlyCharges\n",
       "* 1585 distinct\n",
       "* No NaNs\n",
       "* 18.25 - 118.75 range\n",
       "\n",
       "I'll probably want to either standardize or normalize this feature.\n",
       "No outliers and not a gaussian distribution, so I will probably normalize.\n",
       "\n",
       "### TotalCharges\n",
       "\n",
       "Shape of the distribution of this data looks like e^-x\n",
       "so I think the distribution will be normalized if I take the log(1/x) of the data?\n",
       "\n",
       "\n",
       "\n",
       "### Churn\n",
       "This is a target, turn it into binary 0/1.\n"
      ],
      "text/plain": [
       "<IPython.core.display.Markdown object>"
      ]
     },
     "metadata": {},
     "output_type": "display_data"
    }
   ],
   "source": [
    "%%markdown\n",
    "notes\n",
    "(Information used for this section and decisions is from Week 1 charts and EDA)\n",
    "### customerID <br>\n",
    "We can drop this for training the model not going to be useful for predictions <br>\n",
    "\n",
    "\n",
    "### Average Charge\n",
    "* Newly created field, total charges / tenure\n",
    "\n",
    "### tenure\n",
    "* Weighted to both ends of values\n",
    "* No NaNs\n",
    "* 73 distinct values <br>\n",
    "\n",
    "Might be useful to try to 'bin' this data? ~~0-5, 6-10, etc...~~ I'm going to use qcut to ensure bins are evenly populated\n",
    "Then convert those into an ordinal categorical column? <br>\n",
    "\n",
    "### PhoneService\n",
    "* 2 Distinct values t/f\n",
    "* No NaNs\n",
    "* Much more true than false <br>\n",
    "Turn into binary 0/1 column. <br>\n",
    "\n",
    "### Contract\n",
    "* 3 distinct\n",
    "* No NaNs\n",
    "* mostly month-2-month, other 2 cats evenish <br>\n",
    "\n",
    "Onehotencode-1 this one. <br>\n",
    "\n",
    "### PaymentMethod\n",
    "\n",
    "* 4 distinct vals\n",
    "* 3 have pretty even distru, other has a bit more\n",
    "* No NaNs\n",
    "\n",
    "\n",
    "Onehotencode-1 this one too.\n",
    "\n",
    "### MonthlyCharges\n",
    "* 1585 distinct\n",
    "* No NaNs\n",
    "* 18.25 - 118.75 range\n",
    "\n",
    "I'll probably want to either standardize or normalize this feature.\n",
    "No outliers and not a gaussian distribution, so I will probably normalize.\n",
    "\n",
    "### TotalCharges\n",
    "\n",
    "Shape of the distribution of this data looks like e^-x\n",
    "so I think the distribution will be normalized if I take the log(1/x) of the data?\n",
    "\n",
    "\n",
    "\n",
    "### Churn\n",
    "This is a target, turn it into binary 0/1."
   ]
  },
  {
   "cell_type": "code",
   "execution_count": 3,
   "metadata": {},
   "outputs": [
    {
     "data": {
      "text/markdown": [
       "So, in summary:\n",
       "* customerID    : DROP\n",
       "* tenure        : Let's try binning this one\n",
       "* PhoneService  : Binary 0/1\n",
       "* Contract      : OneHotEncode-1\n",
       "* PaymentMethod : OneHotEncode-1\n",
       "* MonthlyCharges: Normalize\n",
       "* TotalCharges  : Take log of this one I guess. Still debating dropping it bc of high correlation with tenure\n",
       "* Churn         : Binary 0/1 [target]\n"
      ],
      "text/plain": [
       "<IPython.core.display.Markdown object>"
      ]
     },
     "metadata": {},
     "output_type": "display_data"
    }
   ],
   "source": [
    "%%markdown\n",
    "So, in summary:\n",
    "* customerID    : DROP\n",
    "* tenure        : Let's try binning this one\n",
    "* PhoneService  : Binary 0/1\n",
    "* Contract      : OneHotEncode-1\n",
    "* PaymentMethod : OneHotEncode-1\n",
    "* MonthlyCharges: Normalize\n",
    "* TotalCharges  : Take log of this one I guess. Still debating dropping it bc of high correlation with tenure\n",
    "* Churn         : Binary 0/1 [target]"
   ]
  },
  {
   "cell_type": "code",
   "execution_count": 4,
   "metadata": {},
   "outputs": [],
   "source": [
    "# Let's initialize a working copy of the dataframe so we don't have to bother reading the CSV again later\n",
    "churn_wrk = churn_raw"
   ]
  },
  {
   "cell_type": "code",
   "execution_count": 5,
   "metadata": {},
   "outputs": [
    {
     "data": {
      "text/markdown": [
       "# New column : average charge\n"
      ],
      "text/plain": [
       "<IPython.core.display.Markdown object>"
      ]
     },
     "metadata": {},
     "output_type": "display_data"
    }
   ],
   "source": [
    "%%markdown\n",
    "# New column : average charge"
   ]
  },
  {
   "cell_type": "code",
   "execution_count": 6,
   "metadata": {},
   "outputs": [],
   "source": [
    "churn_wrk['average_charge'] = churn_wrk['TotalCharges'] / churn_wrk['tenure']"
   ]
  },
  {
   "cell_type": "code",
   "execution_count": 7,
   "metadata": {},
   "outputs": [
    {
     "data": {
      "text/markdown": [
       "# customerID : DROP\n"
      ],
      "text/plain": [
       "<IPython.core.display.Markdown object>"
      ]
     },
     "metadata": {},
     "output_type": "display_data"
    }
   ],
   "source": [
    "%%markdown\n",
    "# customerID : DROP"
   ]
  },
  {
   "cell_type": "code",
   "execution_count": 8,
   "metadata": {},
   "outputs": [],
   "source": [
    "# Now, why don't we go column by column?\n",
    "\n",
    "churn_wrk = churn_wrk.drop(['customerID'], axis=1)"
   ]
  },
  {
   "cell_type": "code",
   "execution_count": 9,
   "metadata": {},
   "outputs": [
    {
     "data": {
      "text/markdown": [
       "# tenure : Create new binned feature\n"
      ],
      "text/plain": [
       "<IPython.core.display.Markdown object>"
      ]
     },
     "metadata": {},
     "output_type": "display_data"
    }
   ],
   "source": [
    "%%markdown\n",
    "# tenure : Create new binned feature"
   ]
  },
  {
   "cell_type": "code",
   "execution_count": 10,
   "metadata": {},
   "outputs": [
    {
     "data": {
      "text/plain": [
       "(-0.072, 7.2]    1612\n",
       "(64.8, 72.0]     1109\n",
       "(7.2, 14.4]       759\n",
       "(14.4, 21.6]      570\n",
       "(21.6, 28.8]      556\n",
       "(28.8, 36.0]      545\n",
       "(57.6, 64.8]      501\n",
       "(50.4, 57.6]      495\n",
       "(43.2, 50.4]      452\n",
       "(36.0, 43.2]      444\n",
       "Name: tenure, dtype: int64"
      ]
     },
     "execution_count": 10,
     "metadata": {},
     "output_type": "execute_result"
    }
   ],
   "source": [
    "pd.cut(churn_wrk['tenure'], bins=10).value_counts()"
   ]
  },
  {
   "cell_type": "code",
   "execution_count": 11,
   "metadata": {},
   "outputs": [
    {
     "data": {
      "text/plain": [
       "(-0.001, 2.0]    862\n",
       "(60.0, 69.0]     756\n",
       "(29.0, 40.0]     717\n",
       "(6.0, 12.0]      705\n",
       "(50.0, 60.0]     698\n",
       "(12.0, 20.0]     692\n",
       "(20.0, 29.0]     691\n",
       "(40.0, 50.0]     652\n",
       "(69.0, 72.0]     651\n",
       "(2.0, 6.0]       619\n",
       "Name: tenure, dtype: int64"
      ]
     },
     "execution_count": 11,
     "metadata": {},
     "output_type": "execute_result"
    }
   ],
   "source": [
    "pd.qcut(churn_wrk['tenure'], q=10).value_counts()"
   ]
  },
  {
   "cell_type": "code",
   "execution_count": 12,
   "metadata": {},
   "outputs": [],
   "source": [
    "# I think I'm going to use qcut because it looks like cut will be skewed to 2 of the bins\n",
    "churn_wrk['tenure_bins'] = pd.qcut(churn_wrk['tenure'], q=10, labels=[i for i in range(0,10)])\n",
    "churn_wrk = churn_wrk.drop(['tenure'], axis=1)"
   ]
  },
  {
   "cell_type": "code",
   "execution_count": 13,
   "metadata": {},
   "outputs": [
    {
     "data": {
      "text/markdown": [
       "# PhoneService  : Binary 0/1\n"
      ],
      "text/plain": [
       "<IPython.core.display.Markdown object>"
      ]
     },
     "metadata": {},
     "output_type": "display_data"
    }
   ],
   "source": [
    "%%markdown\n",
    "# PhoneService  : Binary 0/1"
   ]
  },
  {
   "cell_type": "code",
   "execution_count": 14,
   "metadata": {},
   "outputs": [],
   "source": [
    "# Get our binary column\n",
    "phoneservice_binary = pd.get_dummies(churn_wrk['PhoneService'], drop_first=True, prefix='PhoneService')\n",
    "\n",
    "# Concatenate it with our dataframe\n",
    "churn_wrk = pd.concat([churn_wrk, phoneservice_binary], axis=1)\n",
    "\n",
    "# and now drop the column that's been processed\n",
    "churn_wrk = churn_wrk.drop(['PhoneService'], axis=1)"
   ]
  },
  {
   "cell_type": "code",
   "execution_count": 15,
   "metadata": {},
   "outputs": [
    {
     "data": {
      "text/markdown": [
       "# Contract : OneHotEncode-1\n"
      ],
      "text/plain": [
       "<IPython.core.display.Markdown object>"
      ]
     },
     "metadata": {},
     "output_type": "display_data"
    }
   ],
   "source": [
    "%%markdown\n",
    "# Contract : OneHotEncode-1"
   ]
  },
  {
   "cell_type": "code",
   "execution_count": 16,
   "metadata": {},
   "outputs": [],
   "source": [
    "# get our dummy columns\n",
    "contract_dummies = pd.get_dummies(churn_wrk['Contract'], drop_first=True, prefix='Contract')\n",
    "\n",
    "# Concat them with our dataframe\n",
    "churn_wrk = pd.concat([churn_wrk, contract_dummies], axis=1)\n",
    "\n",
    "# and now drop the column\n",
    "churn_wrk = churn_wrk.drop(['Contract'], axis=1)\n",
    "\n",
    "# I don't trust \"inplace\" operations in pandas"
   ]
  },
  {
   "cell_type": "code",
   "execution_count": 17,
   "metadata": {},
   "outputs": [
    {
     "data": {
      "text/markdown": [
       "# PaymentMethod : OneHotEncode-1\n"
      ],
      "text/plain": [
       "<IPython.core.display.Markdown object>"
      ]
     },
     "metadata": {},
     "output_type": "display_data"
    }
   ],
   "source": [
    "%%markdown\n",
    "# PaymentMethod : OneHotEncode-1"
   ]
  },
  {
   "cell_type": "code",
   "execution_count": 18,
   "metadata": {},
   "outputs": [],
   "source": [
    "# get our dummy columns\n",
    "paymentmethod_dummies = pd.get_dummies(churn_wrk['PaymentMethod'], drop_first=True, prefix='PaymentMethod', columns=[''])\n",
    "\n",
    "# Concat them with our dataframe\n",
    "churn_wrk = pd.concat([churn_wrk, paymentmethod_dummies], axis=1)\n",
    "\n",
    "# and now drop the column\n",
    "churn_wrk = churn_wrk.drop(['PaymentMethod'], axis=1)"
   ]
  },
  {
   "cell_type": "code",
   "execution_count": 19,
   "metadata": {},
   "outputs": [
    {
     "data": {
      "text/markdown": [
       "# MonthlyCharges: Normalize\n"
      ],
      "text/plain": [
       "<IPython.core.display.Markdown object>"
      ]
     },
     "metadata": {},
     "output_type": "display_data"
    }
   ],
   "source": [
    "%%markdown\n",
    "# MonthlyCharges: Normalize"
   ]
  },
  {
   "cell_type": "code",
   "execution_count": 20,
   "metadata": {},
   "outputs": [],
   "source": [
    "# Create new normalized column\n",
    "churn_wrk['MonthlyCharges_normal'] = ((churn_wrk['MonthlyCharges'] - churn_wrk['MonthlyCharges'].min()) /\n",
    "                    (churn_wrk['MonthlyCharges'].max() - churn_wrk['MonthlyCharges'].min()))\n",
    "\n",
    "# Drop old column\n",
    "churn_wrk = churn_wrk.drop(['MonthlyCharges'], axis=1)"
   ]
  },
  {
   "cell_type": "code",
   "execution_count": 21,
   "metadata": {},
   "outputs": [
    {
     "data": {
      "text/markdown": [
       "# TotalCharges : Take log of this one\n"
      ],
      "text/plain": [
       "<IPython.core.display.Markdown object>"
      ]
     },
     "metadata": {},
     "output_type": "display_data"
    }
   ],
   "source": [
    "%%markdown\n",
    "# TotalCharges : Take log of this one\n"
   ]
  },
  {
   "cell_type": "code",
   "execution_count": 22,
   "metadata": {},
   "outputs": [
    {
     "data": {
      "text/plain": [
       "<AxesSubplot:>"
      ]
     },
     "execution_count": 22,
     "metadata": {},
     "output_type": "execute_result"
    },
    {
     "data": {
      "image/png": "[encoded data removed]",
      "text/plain": [
       "<Figure size 432x288 with 1 Axes>"
      ]
     },
     "metadata": {
      "needs_background": "light"
     },
     "output_type": "display_data"
    }
   ],
   "source": [
    "churn_wrk['TotalCharges'].hist()"
   ]
  },
  {
   "cell_type": "code",
   "execution_count": 23,
   "metadata": {},
   "outputs": [],
   "source": [
    "# I need a function to apply log(1/y) using df.apply\n",
    "import numpy as np\n",
    "\n",
    "def log_1_y(x):\n",
    "    return np.log(1/x)"
   ]
  },
  {
   "cell_type": "code",
   "execution_count": 24,
   "metadata": {},
   "outputs": [
    {
     "data": {
      "text/plain": [
       "<AxesSubplot:>"
      ]
     },
     "execution_count": 24,
     "metadata": {},
     "output_type": "execute_result"
    },
    {
     "data": {
      "image/png": "[encoded data removed]",
      "text/plain": [
       "<Figure size 432x288 with 1 Axes>"
      ]
     },
     "metadata": {
      "needs_background": "light"
     },
     "output_type": "display_data"
    }
   ],
   "source": [
    "\n",
    "totalcharges_log = churn_wrk['TotalCharges'].apply(log_1_y)\n",
    "totalcharges_log = totalcharges_log.rename('TotalCharges_log')\n",
    "\n",
    "totalcharges_log.hist()\n",
    "# It's slighty better, but still pretty skewed..."
   ]
  },
  {
   "cell_type": "code",
   "execution_count": 25,
   "metadata": {},
   "outputs": [],
   "source": [
    "churn_wrk = pd.concat([churn_wrk, totalcharges_log], axis=1)\n",
    "churn_wrk = churn_wrk.drop(['TotalCharges'], axis=1)"
   ]
  },
  {
   "cell_type": "code",
   "execution_count": 26,
   "metadata": {},
   "outputs": [
    {
     "data": {
      "text/markdown": [
       "# Churn : Binary 0/1 [target]\n"
      ],
      "text/plain": [
       "<IPython.core.display.Markdown object>"
      ]
     },
     "metadata": {},
     "output_type": "display_data"
    }
   ],
   "source": [
    "%%markdown\n",
    "# Churn : Binary 0/1 [target]"
   ]
  },
  {
   "cell_type": "code",
   "execution_count": 27,
   "metadata": {},
   "outputs": [],
   "source": [
    "# Get dummy\n",
    "churn_binary = pd.get_dummies(churn_wrk['Churn'], drop_first=True, prefix='Churn')\n",
    "\n",
    "#combine\n",
    "churn_wrk = pd.concat([churn_wrk, churn_binary], axis=1)\n",
    "\n",
    "#drop\n",
    "churn_wrk = churn_wrk.drop(['Churn'], axis=1)"
   ]
  },
  {
   "cell_type": "code",
   "execution_count": 28,
   "metadata": {},
   "outputs": [
    {
     "data": {
      "text/html": [
       "<div>\n",
       "<style scoped>\n",
       "    .dataframe tbody tr th:only-of-type {\n",
       "        vertical-align: middle;\n",
       "    }\n",
       "\n",
       "    .dataframe tbody tr th {\n",
       "        vertical-align: top;\n",
       "    }\n",
       "\n",
       "    .dataframe thead th {\n",
       "        text-align: right;\n",
       "    }\n",
       "</style>\n",
       "<table border=\"1\" class=\"dataframe\">\n",
       "  <thead>\n",
       "    <tr style=\"text-align: right;\">\n",
       "      <th></th>\n",
       "      <th>average_charge</th>\n",
       "      <th>tenure_bins</th>\n",
       "      <th>PhoneService_Yes</th>\n",
       "      <th>Contract_One year</th>\n",
       "      <th>Contract_Two year</th>\n",
       "      <th>PaymentMethod_Credit card (automatic)</th>\n",
       "      <th>PaymentMethod_Electronic check</th>\n",
       "      <th>PaymentMethod_Mailed check</th>\n",
       "      <th>MonthlyCharges_normal</th>\n",
       "      <th>TotalCharges_log</th>\n",
       "      <th>Churn_Yes</th>\n",
       "    </tr>\n",
       "  </thead>\n",
       "  <tbody>\n",
       "    <tr>\n",
       "      <th>0</th>\n",
       "      <td>29.850000</td>\n",
       "      <td>0</td>\n",
       "      <td>0</td>\n",
       "      <td>0</td>\n",
       "      <td>0</td>\n",
       "      <td>0</td>\n",
       "      <td>1</td>\n",
       "      <td>0</td>\n",
       "      <td>0.115423</td>\n",
       "      <td>-3.396185</td>\n",
       "      <td>0</td>\n",
       "    </tr>\n",
       "    <tr>\n",
       "      <th>1</th>\n",
       "      <td>55.573529</td>\n",
       "      <td>5</td>\n",
       "      <td>1</td>\n",
       "      <td>1</td>\n",
       "      <td>0</td>\n",
       "      <td>0</td>\n",
       "      <td>0</td>\n",
       "      <td>1</td>\n",
       "      <td>0.385075</td>\n",
       "      <td>-7.544068</td>\n",
       "      <td>0</td>\n",
       "    </tr>\n",
       "    <tr>\n",
       "      <th>2</th>\n",
       "      <td>54.075000</td>\n",
       "      <td>0</td>\n",
       "      <td>1</td>\n",
       "      <td>0</td>\n",
       "      <td>0</td>\n",
       "      <td>0</td>\n",
       "      <td>0</td>\n",
       "      <td>1</td>\n",
       "      <td>0.354229</td>\n",
       "      <td>-4.683519</td>\n",
       "      <td>1</td>\n",
       "    </tr>\n",
       "    <tr>\n",
       "      <th>3</th>\n",
       "      <td>40.905556</td>\n",
       "      <td>6</td>\n",
       "      <td>0</td>\n",
       "      <td>1</td>\n",
       "      <td>0</td>\n",
       "      <td>0</td>\n",
       "      <td>0</td>\n",
       "      <td>0</td>\n",
       "      <td>0.239303</td>\n",
       "      <td>-7.517928</td>\n",
       "      <td>0</td>\n",
       "    </tr>\n",
       "    <tr>\n",
       "      <th>4</th>\n",
       "      <td>75.825000</td>\n",
       "      <td>0</td>\n",
       "      <td>1</td>\n",
       "      <td>0</td>\n",
       "      <td>0</td>\n",
       "      <td>0</td>\n",
       "      <td>1</td>\n",
       "      <td>0</td>\n",
       "      <td>0.521891</td>\n",
       "      <td>-5.021575</td>\n",
       "      <td>1</td>\n",
       "    </tr>\n",
       "  </tbody>\n",
       "</table>\n",
       "</div>"
      ],
      "text/plain": [
       "   average_charge tenure_bins  PhoneService_Yes  Contract_One year  \\\n",
       "0       29.850000           0                 0                  0   \n",
       "1       55.573529           5                 1                  1   \n",
       "2       54.075000           0                 1                  0   \n",
       "3       40.905556           6                 0                  1   \n",
       "4       75.825000           0                 1                  0   \n",
       "\n",
       "   Contract_Two year  PaymentMethod_Credit card (automatic)  \\\n",
       "0                  0                                      0   \n",
       "1                  0                                      0   \n",
       "2                  0                                      0   \n",
       "3                  0                                      0   \n",
       "4                  0                                      0   \n",
       "\n",
       "   PaymentMethod_Electronic check  PaymentMethod_Mailed check  \\\n",
       "0                               1                           0   \n",
       "1                               0                           1   \n",
       "2                               0                           1   \n",
       "3                               0                           0   \n",
       "4                               1                           0   \n",
       "\n",
       "   MonthlyCharges_normal  TotalCharges_log  Churn_Yes  \n",
       "0               0.115423         -3.396185          0  \n",
       "1               0.385075         -7.544068          0  \n",
       "2               0.354229         -4.683519          1  \n",
       "3               0.239303         -7.517928          0  \n",
       "4               0.521891         -5.021575          1  "
      ]
     },
     "execution_count": 28,
     "metadata": {},
     "output_type": "execute_result"
    }
   ],
   "source": [
    "churn_wrk.head()"
   ]
  },
  {
   "cell_type": "code",
   "execution_count": 29,
   "metadata": {},
   "outputs": [
    {
     "data": {
      "text/markdown": [
       "# Cleaner Class\n",
       "I originally used fit_transform to try in sklearn.pipeline but the way it turns my dataframe into a numpy ndarray and loses all my headers makes it too hard to deal with ¯\\_(ツ)_/¯\n"
      ],
      "text/plain": [
       "<IPython.core.display.Markdown object>"
      ]
     },
     "metadata": {},
     "output_type": "display_data"
    }
   ],
   "source": [
    "%%markdown\n",
    "# Cleaner Class\n",
    "I originally used fit_transform to try in sklearn.pipeline but the way it turns my dataframe into a numpy ndarray and loses all my headers makes it too hard to deal with ¯\\_(ツ)_/¯"
   ]
  },
  {
   "cell_type": "code",
   "execution_count": 30,
   "metadata": {},
   "outputs": [],
   "source": [
    "from sklearn.base import BaseEstimator, TransformerMixin\n",
    "# I hate having to rerun multiple cells though, so\n",
    "class InitAttributeCleaner(BaseEstimator, TransformerMixin):\n",
    "    def __init__(self):\n",
    "        pass\n",
    "    def fit(self, X, y=None):\n",
    "            return self # Nothing to do here, apparently\n",
    "    def transform(self, X, y=None):\n",
    "        ### New column : average charge\n",
    "        X['average_charge'] = X['TotalCharges'] / X['tenure']\n",
    "        \n",
    "        \n",
    "        ### customerID : DROP\n",
    "        X = X.drop(['customerID'], axis=1)\n",
    "        \n",
    "\n",
    "        ### tenure : bins\n",
    "        X['tenure_bins'] = pd.qcut(X['tenure'], q=10, labels=[i for i in range(0,10)])\n",
    "        X = X.drop(['tenure'], axis=1)\n",
    "        \n",
    "        \n",
    "        ### PhoneService : binarize\n",
    "        # Get our binary column\n",
    "        phoneservice_binary = pd.get_dummies(X['PhoneService'], drop_first=True, prefix='PhoneService')\n",
    "        \n",
    "        # Concatenate it with our dataframe\n",
    "        X = pd.concat([X, phoneservice_binary], axis=1)\n",
    "        \n",
    "        # and now drop the column that's been processed\n",
    "        X = X.drop(['PhoneService'], axis=1)\n",
    "\n",
    "        \n",
    "        ### Contract : onehotencode\n",
    "        # get our dummy columns\n",
    "        contract_dummies = pd.get_dummies(X['Contract'], drop_first=True, prefix='Contract')\n",
    "\n",
    "        # Concat them with our dataframe\n",
    "        X = pd.concat([X, contract_dummies], axis=1)\n",
    "\n",
    "        # and now drop the column\n",
    "        X = X.drop(['Contract'], axis=1)\n",
    "\n",
    "        \n",
    "        # PaymentMethod : onehotencode\n",
    "        # get our dummy columns\n",
    "        paymentmethod_dummies = pd.get_dummies(X['PaymentMethod'], drop_first=True, prefix='PaymentMethod', columns=[''])\n",
    "\n",
    "        # Concat them with our dataframe\n",
    "        X = pd.concat([X, paymentmethod_dummies], axis=1)\n",
    "\n",
    "        # and now drop the column\n",
    "        X = X.drop(['PaymentMethod'], axis=1)\n",
    "\n",
    "        \n",
    "        ### MonthlyCharges : normalize\n",
    "        # Create new normalized column\n",
    "        X['MonthlyCharges_normal'] = ((X['MonthlyCharges'] - X['MonthlyCharges'].min()) /\n",
    "                            (X['MonthlyCharges'].max() - X['MonthlyCharges'].min()))\n",
    "\n",
    "        # Drop old column\n",
    "        X = X.drop(['MonthlyCharges'], axis=1)\n",
    "\n",
    "            \n",
    "        ### TotalCharges : apply log\n",
    "        # Fill TotalCharges with the mode of the dataset because it's so heavily skewed\n",
    "        X['TotalCharges'] = X['TotalCharges'].fillna(X['TotalCharges'].mode())\n",
    "        \n",
    "        # apply log\n",
    "        totalcharges_log = X['TotalCharges'].apply(np.log)\n",
    "        \n",
    "        # change name before concat\n",
    "        totalcharges_log = totalcharges_log.rename('TotalCharges_log')\n",
    "        \n",
    "        #concat\n",
    "        X = pd.concat([X, totalcharges_log], axis=1)\n",
    "        \n",
    "        #drop old\n",
    "        X = X.drop(['TotalCharges'], axis=1)\n",
    "        \n",
    "        \n",
    "        ### Churn : binarize\n",
    "        # Get dummy\n",
    "        churn_binary = pd.get_dummies(X['Churn'], drop_first=True, prefix='Churn')\n",
    "\n",
    "        #combine\n",
    "        X = pd.concat([X, churn_binary], axis=1)\n",
    "\n",
    "        #drop\n",
    "        X = X.drop(['Churn'], axis=1)\n",
    "        return X"
   ]
  },
  {
   "cell_type": "code",
   "execution_count": 31,
   "metadata": {},
   "outputs": [],
   "source": [
    "# and bam, clean!\n",
    "cleaner = InitAttributeCleaner()\n",
    "churn_clean = cleaner.fit_transform(churn_raw)"
   ]
  },
  {
   "cell_type": "code",
   "execution_count": 32,
   "metadata": {},
   "outputs": [],
   "source": [
    "# and CSV it\n",
    "churn_clean.to_csv('./churn_clean.csv', index=False)"
   ]
  },
  {
   "cell_type": "markdown",
   "metadata": {},
   "source": [
    "### Summary\n",
    "\n",
    "Write your summary of the process and results here."
   ]
  },
  {
   "cell_type": "code",
   "execution_count": 35,
   "metadata": {},
   "outputs": [
    {
     "data": {
      "text/markdown": [
       "I didn't actually see any outliers in the data to clean up. Even the data at the \"edges\" of\n",
       "the provided range happens fairly frequently. Similarly, there were no missing values in the\n",
       "provided dataset. How nice is that! \n",
       "\n",
       "There were four categorical columns. PhoneService and Churn [the target] were binary \n",
       "categories, and I turned both of these into columns containing a 0 (False) or 1 (True) using\n",
       "pandas.get_dummies. The other two categories, Contract and PaymentMethod, contained multiple\n",
       "values. I again used pandas.get_dummies, but this time to OneHotEncode the possible values.\n",
       "Since there is 4 discrete possibilities, I dropped one of the columns of each leaving number\n",
       "of columns = (N possibilities) - 1.\n",
       "\n",
       "I dropped column customerID, as I did not see how it could assist a model in predicting\n",
       "churn.\n",
       "\n",
       "Tenure has 73 distinct values, which I thought might be difficult for a model to handle. I\n",
       "created a new column quantizing the data into 10 bins with even samples in each. Values in\n",
       "this new column (tenure_bins) go 0-9 to imply the ordinal meaning of the original values.\n",
       "\n",
       "MonthlyCharges has a lot of distinct values that may be difficult for a model to understand,\n",
       "so I used a minmax normalization to bring the values within the range [0,1].\n",
       "\n",
       "TotalCharges' distribution had an interesting shape to me that almost looked like e^-x. So, I took the log\n",
       "of the feature. The distribution is slightly more evenly distributed now, so hopefully it\n",
       "helps.\n",
       "\n",
       "I created a new column average_charge to get the average charge paid over time. Curious if\n",
       "this shows that some people paid a less \"fair\" rate than others for similar services.\n",
       "\n",
       "\n",
       "\n",
       "Some of my decisions I am less sure of than others. Using qcut vs. cut when binning my tenure was a hard \n",
       "choice, I justified what I chose but still wonder if I made the correct decision. I also wonder if the\n",
       "correlation between tenure and TotalCharges is going to be an issue. Taking the log of TotalCharges was\n",
       "a little bit of a gamble based on inuition on the shape of the data... but we'll see how it plays out. \n",
       "I may end up giving my cleaner class a hyperparameter to toggle that function to test whether or not it's\n",
       "helping at all later down the road.\n"
      ],
      "text/plain": [
       "<IPython.core.display.Markdown object>"
      ]
     },
     "metadata": {},
     "output_type": "display_data"
    }
   ],
   "source": [
    "%%markdown\n",
    "I didn't actually see any outliers in the data to clean up. Even the data at the \"edges\" of\n",
    "the provided range happens fairly frequently. Similarly, there were no missing values in the\n",
    "provided dataset. How nice is that! \n",
    "\n",
    "There were four categorical columns. PhoneService and Churn [the target] were binary \n",
    "categories, and I turned both of these into columns containing a 0 (False) or 1 (True) using\n",
    "pandas.get_dummies. The other two categories, Contract and PaymentMethod, contained multiple\n",
    "values. I again used pandas.get_dummies, but this time to OneHotEncode the possible values.\n",
    "Since there is 4 discrete possibilities, I dropped one of the columns of each leaving number\n",
    "of columns = (N possibilities) - 1.\n",
    "\n",
    "I dropped column customerID, as I did not see how it could assist a model in predicting\n",
    "churn.\n",
    "\n",
    "Tenure has 73 distinct values, which I thought might be difficult for a model to handle. I\n",
    "created a new column quantizing the data into 10 bins with even samples in each. Values in\n",
    "this new column (tenure_bins) go 0-9 to imply the ordinal meaning of the original values.\n",
    "\n",
    "MonthlyCharges has a lot of distinct values that may be difficult for a model to understand,\n",
    "so I used a minmax normalization to bring the values within the range [0,1].\n",
    "\n",
    "TotalCharges' distribution had an interesting shape to me that almost looked like e^-x. So, I took the log\n",
    "of the feature. The distribution is slightly more evenly distributed now, so hopefully it\n",
    "helps.\n",
    "\n",
    "I created a new column average_charge to get the average charge paid over time. Curious if\n",
    "this shows that some people paid a less \"fair\" rate than others for similar services.\n",
    "\n",
    "\n",
    "\n",
    "Some of my decisions I am less sure of than others. Using qcut vs. cut when binning my tenure was a hard \n",
    "choice, I justified what I chose but still wonder if I made the correct decision. I also wonder if the\n",
    "correlation between tenure and TotalCharges is going to be an issue. Taking the log of TotalCharges was\n",
    "a little bit of a gamble based on inuition on the shape of the data... but we'll see how it plays out. \n",
    "I may end up giving my cleaner class a hyperparameter to toggle that function to test whether or not it's\n",
    "helping at all later down the road."
   ]
  }
 ],
 "metadata": {
  "kernelspec": {
   "display_name": "Python 3",
   "language": "python",
   "name": "python3"
  },
  "language_info": {
   "codemirror_mode": {
    "name": "ipython",
    "version": 3
   },
   "file_extension": ".py",
   "mimetype": "text/x-python",
   "name": "python",
   "nbconvert_exporter": "python",
   "pygments_lexer": "ipython3",
   "version": "3.8.10"
  }
 },
 "nbformat": 4,
 "nbformat_minor": 4
}
