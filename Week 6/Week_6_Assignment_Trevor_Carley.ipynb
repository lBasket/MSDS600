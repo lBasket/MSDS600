{
 "cells": [
  {
   "cell_type": "markdown",
   "id": "ca51c4c7",
   "metadata": {},
   "source": [
    "# Assignment:"
   ]
  },
  {
   "cell_type": "markdown",
   "id": "b77e1ef2",
   "metadata": {},
   "source": [
    "1. Perform some movie recommendations and analysis for user 2:\n",
    "- How many movies has this user watched?\n",
    "- Plot a bar chart of their movie ratings. The bar chart should be the counts of the number of unique ratings.\n",
    "    - Hint: the `sort_index()` function from pandas might be helpful to make the bar plot look nicer.\n",
    "- What are some of user 2's top movies?\n",
    "    - Hint: to get the actual movie titles, you can use pandas [merge](https://pandas.pydata.org/docs/reference/api/pandas.DataFrame.merge.html) function, although using the movie IDs is OK too.\n",
    "- Find the most similar user in the movielens dataset to user 2 using at least 2 distance metrics. Be sure to use cosine distance as one of your choices.\n",
    "- Recommend a few movies for user 2 using similarity metrics.\n",
    "- Do the recommendations from this method make sense?\n",
    "- Write a short analysis of the results, and justify which similarity metric(s) you used.\n",
    "\n",
    "Optional challenges:\n",
    "- Perform other analyses (e.g. EDA, visualizations) of the movies watched from this dataset, or from a bigger part of the dataset for the movielens dataset: https://grouplens.org/datasets/movielens/\n",
    "- Add yourself as a user in the data with ratings for movies you've watched, and find recommendations for next movies to watch. \n",
    "- Use a more advanced collaborative or content-based recommender to make recommendations (e.g. using the surprise package in Python)\n",
    "    - Try making predictions for user 2. How do they compare with our basic model?\n",
    "    - Add your own movie ratings, or use another recommender dataset and add your own preferences, then get recommendations for yourself"
   ]
  },
  {
   "cell_type": "code",
   "execution_count": 1,
   "id": "08fabf6f",
   "metadata": {},
   "outputs": [],
   "source": [
    "import pandas as pd\n",
    "movies = pd.read_csv('./movies.csv')\n",
    "ratings = pd.read_csv('./ratings.csv')"
   ]
  },
  {
   "cell_type": "code",
   "execution_count": 6,
   "id": "b53607ee-755f-4929-bc47-e2d938ce705c",
   "metadata": {},
   "outputs": [
    {
     "data": {
      "text/html": [
       "<div>\n",
       "<style scoped>\n",
       "    .dataframe tbody tr th:only-of-type {\n",
       "        vertical-align: middle;\n",
       "    }\n",
       "\n",
       "    .dataframe tbody tr th {\n",
       "        vertical-align: top;\n",
       "    }\n",
       "\n",
       "    .dataframe thead th {\n",
       "        text-align: right;\n",
       "    }\n",
       "</style>\n",
       "<table border=\"1\" class=\"dataframe\">\n",
       "  <thead>\n",
       "    <tr style=\"text-align: right;\">\n",
       "      <th></th>\n",
       "      <th>movieId</th>\n",
       "      <th>rating</th>\n",
       "      <th>timestamp</th>\n",
       "    </tr>\n",
       "    <tr>\n",
       "      <th>userId</th>\n",
       "      <th></th>\n",
       "      <th></th>\n",
       "      <th></th>\n",
       "    </tr>\n",
       "  </thead>\n",
       "  <tbody>\n",
       "    <tr>\n",
       "      <th>2</th>\n",
       "      <td>29</td>\n",
       "      <td>29</td>\n",
       "      <td>29</td>\n",
       "    </tr>\n",
       "  </tbody>\n",
       "</table>\n",
       "</div>"
      ],
      "text/plain": [
       "        movieId  rating  timestamp\n",
       "userId                            \n",
       "2            29      29         29"
      ]
     },
     "execution_count": 6,
     "metadata": {},
     "output_type": "execute_result"
    }
   ],
   "source": [
    "# How many movies has this guy watched?\n",
    "ratings.loc[ratings['userId'] == 2].groupby('userId').count()\n",
    "\n",
    "# Looks like he's got 29 reviews"
   ]
  },
  {
   "cell_type": "code",
   "execution_count": 26,
   "id": "50d81f6d-a189-4051-8c98-34d0f98d859d",
   "metadata": {},
   "outputs": [
    {
     "data": {
      "text/plain": [
       "<AxesSubplot:xlabel='movieId'>"
      ]
     },
     "execution_count": 26,
     "metadata": {},
     "output_type": "execute_result"
    },
    {
     "data": {
      "image/png": "[encoded data removed]",
      "text/plain": [
       "<Figure size 432x288 with 1 Axes>"
      ]
     },
     "metadata": {
      "needs_background": "light"
     },
     "output_type": "display_data"
    }
   ],
   "source": [
    "# Plot a bar chart of their movie ratings. The bar chart should be the counts of the\n",
    "# number of unique ratings.\n",
    "ratings.loc[ratings['userId'] == 2].sort_values('rating', ascending=False).plot(kind='bar', x='movieId', y='rating')"
   ]
  },
  {
   "cell_type": "code",
   "execution_count": 30,
   "id": "d54ed4f0-e900-4ced-865a-6fb79ce21316",
   "metadata": {},
   "outputs": [
    {
     "data": {
      "text/html": [
       "<div>\n",
       "<style scoped>\n",
       "    .dataframe tbody tr th:only-of-type {\n",
       "        vertical-align: middle;\n",
       "    }\n",
       "\n",
       "    .dataframe tbody tr th {\n",
       "        vertical-align: top;\n",
       "    }\n",
       "\n",
       "    .dataframe thead th {\n",
       "        text-align: right;\n",
       "    }\n",
       "</style>\n",
       "<table border=\"1\" class=\"dataframe\">\n",
       "  <thead>\n",
       "    <tr style=\"text-align: right;\">\n",
       "      <th></th>\n",
       "      <th>userId</th>\n",
       "      <th>movieId</th>\n",
       "      <th>rating</th>\n",
       "      <th>timestamp</th>\n",
       "      <th>title</th>\n",
       "      <th>genres</th>\n",
       "    </tr>\n",
       "  </thead>\n",
       "  <tbody>\n",
       "    <tr>\n",
       "      <th>0</th>\n",
       "      <td>2</td>\n",
       "      <td>60756</td>\n",
       "      <td>5.0</td>\n",
       "      <td>1445714980</td>\n",
       "      <td>Step Brothers (2008)</td>\n",
       "      <td>Comedy</td>\n",
       "    </tr>\n",
       "    <tr>\n",
       "      <th>1</th>\n",
       "      <td>2</td>\n",
       "      <td>80906</td>\n",
       "      <td>5.0</td>\n",
       "      <td>1445715172</td>\n",
       "      <td>Inside Job (2010)</td>\n",
       "      <td>Documentary</td>\n",
       "    </tr>\n",
       "    <tr>\n",
       "      <th>2</th>\n",
       "      <td>2</td>\n",
       "      <td>89774</td>\n",
       "      <td>5.0</td>\n",
       "      <td>1445715189</td>\n",
       "      <td>Warrior (2011)</td>\n",
       "      <td>Drama</td>\n",
       "    </tr>\n",
       "    <tr>\n",
       "      <th>3</th>\n",
       "      <td>2</td>\n",
       "      <td>106782</td>\n",
       "      <td>5.0</td>\n",
       "      <td>1445714966</td>\n",
       "      <td>Wolf of Wall Street, The (2013)</td>\n",
       "      <td>Comedy|Crime|Drama</td>\n",
       "    </tr>\n",
       "    <tr>\n",
       "      <th>4</th>\n",
       "      <td>2</td>\n",
       "      <td>122882</td>\n",
       "      <td>5.0</td>\n",
       "      <td>1445715272</td>\n",
       "      <td>Mad Max: Fury Road (2015)</td>\n",
       "      <td>Action|Adventure|Sci-Fi|Thriller</td>\n",
       "    </tr>\n",
       "    <tr>\n",
       "      <th>5</th>\n",
       "      <td>2</td>\n",
       "      <td>131724</td>\n",
       "      <td>5.0</td>\n",
       "      <td>1445714851</td>\n",
       "      <td>The Jinx: The Life and Deaths of Robert Durst ...</td>\n",
       "      <td>Documentary</td>\n",
       "    </tr>\n",
       "  </tbody>\n",
       "</table>\n",
       "</div>"
      ],
      "text/plain": [
       "   userId  movieId  rating   timestamp  \\\n",
       "0       2    60756     5.0  1445714980   \n",
       "1       2    80906     5.0  1445715172   \n",
       "2       2    89774     5.0  1445715189   \n",
       "3       2   106782     5.0  1445714966   \n",
       "4       2   122882     5.0  1445715272   \n",
       "5       2   131724     5.0  1445714851   \n",
       "\n",
       "                                               title  \\\n",
       "0                               Step Brothers (2008)   \n",
       "1                                  Inside Job (2010)   \n",
       "2                                     Warrior (2011)   \n",
       "3                    Wolf of Wall Street, The (2013)   \n",
       "4                          Mad Max: Fury Road (2015)   \n",
       "5  The Jinx: The Life and Deaths of Robert Durst ...   \n",
       "\n",
       "                             genres  \n",
       "0                            Comedy  \n",
       "1                       Documentary  \n",
       "2                             Drama  \n",
       "3                Comedy|Crime|Drama  \n",
       "4  Action|Adventure|Sci-Fi|Thriller  \n",
       "5                       Documentary  "
      ]
     },
     "execution_count": 30,
     "metadata": {},
     "output_type": "execute_result"
    }
   ],
   "source": [
    "# What are some of user 2's top movies?\n",
    "#Hint: to get the actual movie titles, you can use pandas merge function, although using \n",
    "    # the movie IDs is OK too.\n",
    "\n",
    "ratings.loc[(ratings['userId'] == 2) & (ratings['rating'] == 5)].merge(movies, on='movieId')"
   ]
  },
  {
   "cell_type": "code",
   "execution_count": 47,
   "id": "35d4fc4d-5a9f-4b2b-9765-9f10c69ce8ea",
   "metadata": {},
   "outputs": [
    {
     "data": {
      "text/html": [
       "<div>\n",
       "<style scoped>\n",
       "    .dataframe tbody tr th:only-of-type {\n",
       "        vertical-align: middle;\n",
       "    }\n",
       "\n",
       "    .dataframe tbody tr th {\n",
       "        vertical-align: top;\n",
       "    }\n",
       "\n",
       "    .dataframe thead th {\n",
       "        text-align: right;\n",
       "    }\n",
       "</style>\n",
       "<table border=\"1\" class=\"dataframe\">\n",
       "  <thead>\n",
       "    <tr style=\"text-align: right;\">\n",
       "      <th>movieId</th>\n",
       "      <th>1</th>\n",
       "      <th>2</th>\n",
       "      <th>3</th>\n",
       "      <th>4</th>\n",
       "      <th>5</th>\n",
       "      <th>6</th>\n",
       "      <th>7</th>\n",
       "      <th>8</th>\n",
       "      <th>9</th>\n",
       "      <th>10</th>\n",
       "      <th>...</th>\n",
       "      <th>193565</th>\n",
       "      <th>193567</th>\n",
       "      <th>193571</th>\n",
       "      <th>193573</th>\n",
       "      <th>193579</th>\n",
       "      <th>193581</th>\n",
       "      <th>193583</th>\n",
       "      <th>193585</th>\n",
       "      <th>193587</th>\n",
       "      <th>193609</th>\n",
       "    </tr>\n",
       "    <tr>\n",
       "      <th>userId</th>\n",
       "      <th></th>\n",
       "      <th></th>\n",
       "      <th></th>\n",
       "      <th></th>\n",
       "      <th></th>\n",
       "      <th></th>\n",
       "      <th></th>\n",
       "      <th></th>\n",
       "      <th></th>\n",
       "      <th></th>\n",
       "      <th></th>\n",
       "      <th></th>\n",
       "      <th></th>\n",
       "      <th></th>\n",
       "      <th></th>\n",
       "      <th></th>\n",
       "      <th></th>\n",
       "      <th></th>\n",
       "      <th></th>\n",
       "      <th></th>\n",
       "      <th></th>\n",
       "    </tr>\n",
       "  </thead>\n",
       "  <tbody>\n",
       "    <tr>\n",
       "      <th>1</th>\n",
       "      <td>4.0</td>\n",
       "      <td>NaN</td>\n",
       "      <td>4.0</td>\n",
       "      <td>NaN</td>\n",
       "      <td>NaN</td>\n",
       "      <td>4.0</td>\n",
       "      <td>NaN</td>\n",
       "      <td>NaN</td>\n",
       "      <td>NaN</td>\n",
       "      <td>NaN</td>\n",
       "      <td>...</td>\n",
       "      <td>NaN</td>\n",
       "      <td>NaN</td>\n",
       "      <td>NaN</td>\n",
       "      <td>NaN</td>\n",
       "      <td>NaN</td>\n",
       "      <td>NaN</td>\n",
       "      <td>NaN</td>\n",
       "      <td>NaN</td>\n",
       "      <td>NaN</td>\n",
       "      <td>NaN</td>\n",
       "    </tr>\n",
       "    <tr>\n",
       "      <th>2</th>\n",
       "      <td>NaN</td>\n",
       "      <td>NaN</td>\n",
       "      <td>NaN</td>\n",
       "      <td>NaN</td>\n",
       "      <td>NaN</td>\n",
       "      <td>NaN</td>\n",
       "      <td>NaN</td>\n",
       "      <td>NaN</td>\n",
       "      <td>NaN</td>\n",
       "      <td>NaN</td>\n",
       "      <td>...</td>\n",
       "      <td>NaN</td>\n",
       "      <td>NaN</td>\n",
       "      <td>NaN</td>\n",
       "      <td>NaN</td>\n",
       "      <td>NaN</td>\n",
       "      <td>NaN</td>\n",
       "      <td>NaN</td>\n",
       "      <td>NaN</td>\n",
       "      <td>NaN</td>\n",
       "      <td>NaN</td>\n",
       "    </tr>\n",
       "    <tr>\n",
       "      <th>3</th>\n",
       "      <td>NaN</td>\n",
       "      <td>NaN</td>\n",
       "      <td>NaN</td>\n",
       "      <td>NaN</td>\n",
       "      <td>NaN</td>\n",
       "      <td>NaN</td>\n",
       "      <td>NaN</td>\n",
       "      <td>NaN</td>\n",
       "      <td>NaN</td>\n",
       "      <td>NaN</td>\n",
       "      <td>...</td>\n",
       "      <td>NaN</td>\n",
       "      <td>NaN</td>\n",
       "      <td>NaN</td>\n",
       "      <td>NaN</td>\n",
       "      <td>NaN</td>\n",
       "      <td>NaN</td>\n",
       "      <td>NaN</td>\n",
       "      <td>NaN</td>\n",
       "      <td>NaN</td>\n",
       "      <td>NaN</td>\n",
       "    </tr>\n",
       "    <tr>\n",
       "      <th>4</th>\n",
       "      <td>NaN</td>\n",
       "      <td>NaN</td>\n",
       "      <td>NaN</td>\n",
       "      <td>NaN</td>\n",
       "      <td>NaN</td>\n",
       "      <td>NaN</td>\n",
       "      <td>NaN</td>\n",
       "      <td>NaN</td>\n",
       "      <td>NaN</td>\n",
       "      <td>NaN</td>\n",
       "      <td>...</td>\n",
       "      <td>NaN</td>\n",
       "      <td>NaN</td>\n",
       "      <td>NaN</td>\n",
       "      <td>NaN</td>\n",
       "      <td>NaN</td>\n",
       "      <td>NaN</td>\n",
       "      <td>NaN</td>\n",
       "      <td>NaN</td>\n",
       "      <td>NaN</td>\n",
       "      <td>NaN</td>\n",
       "    </tr>\n",
       "    <tr>\n",
       "      <th>5</th>\n",
       "      <td>4.0</td>\n",
       "      <td>NaN</td>\n",
       "      <td>NaN</td>\n",
       "      <td>NaN</td>\n",
       "      <td>NaN</td>\n",
       "      <td>NaN</td>\n",
       "      <td>NaN</td>\n",
       "      <td>NaN</td>\n",
       "      <td>NaN</td>\n",
       "      <td>NaN</td>\n",
       "      <td>...</td>\n",
       "      <td>NaN</td>\n",
       "      <td>NaN</td>\n",
       "      <td>NaN</td>\n",
       "      <td>NaN</td>\n",
       "      <td>NaN</td>\n",
       "      <td>NaN</td>\n",
       "      <td>NaN</td>\n",
       "      <td>NaN</td>\n",
       "      <td>NaN</td>\n",
       "      <td>NaN</td>\n",
       "    </tr>\n",
       "  </tbody>\n",
       "</table>\n",
       "<p>5 rows × 9724 columns</p>\n",
       "</div>"
      ],
      "text/plain": [
       "movieId  1       2       3       4       5       6       7       8       \\\n",
       "userId                                                                    \n",
       "1           4.0     NaN     4.0     NaN     NaN     4.0     NaN     NaN   \n",
       "2           NaN     NaN     NaN     NaN     NaN     NaN     NaN     NaN   \n",
       "3           NaN     NaN     NaN     NaN     NaN     NaN     NaN     NaN   \n",
       "4           NaN     NaN     NaN     NaN     NaN     NaN     NaN     NaN   \n",
       "5           4.0     NaN     NaN     NaN     NaN     NaN     NaN     NaN   \n",
       "\n",
       "movieId  9       10      ...  193565  193567  193571  193573  193579  193581  \\\n",
       "userId                   ...                                                   \n",
       "1           NaN     NaN  ...     NaN     NaN     NaN     NaN     NaN     NaN   \n",
       "2           NaN     NaN  ...     NaN     NaN     NaN     NaN     NaN     NaN   \n",
       "3           NaN     NaN  ...     NaN     NaN     NaN     NaN     NaN     NaN   \n",
       "4           NaN     NaN  ...     NaN     NaN     NaN     NaN     NaN     NaN   \n",
       "5           NaN     NaN  ...     NaN     NaN     NaN     NaN     NaN     NaN   \n",
       "\n",
       "movieId  193583  193585  193587  193609  \n",
       "userId                                   \n",
       "1           NaN     NaN     NaN     NaN  \n",
       "2           NaN     NaN     NaN     NaN  \n",
       "3           NaN     NaN     NaN     NaN  \n",
       "4           NaN     NaN     NaN     NaN  \n",
       "5           NaN     NaN     NaN     NaN  \n",
       "\n",
       "[5 rows x 9724 columns]"
      ]
     },
     "execution_count": 47,
     "metadata": {},
     "output_type": "execute_result"
    }
   ],
   "source": [
    "# Find the most similar user in the movielens dataset to user 2 using at least 2\n",
    "# distance metrics. Be sure to use cosine distance as one of your choices.\n",
    "\n",
    "# Okay first I need to pivot it out\n",
    "pivoted = ratings.pivot(index='userId', columns='movieId', values='rating')\n",
    "pivoted.head()"
   ]
  },
  {
   "cell_type": "code",
   "execution_count": 51,
   "id": "c408e540-d4ac-46d0-b15d-0534c58513f4",
   "metadata": {},
   "outputs": [
    {
     "data": {
      "text/plain": [
       "userId\n",
       "153    6.837397\n",
       "41     6.837397\n",
       "139    6.224950\n",
       "414    5.852350\n",
       "517    5.830952\n",
       "15     5.766281\n",
       "461    5.634714\n",
       "328    5.634714\n",
       "305    5.522681\n",
       "298    5.220153\n",
       "Name: 2, dtype: float64"
      ]
     },
     "execution_count": 51,
     "metadata": {},
     "output_type": "execute_result"
    }
   ],
   "source": [
    "# Euclidean distance\n",
    "from scipy.spatial.distance import euclidean\n",
    "euclid_corr = pivoted.T.corr(method=euclidean)\n",
    "\n",
    "euclid_corr[2].sort_values(ascending=False).head(10)\n",
    "\n",
    "# Looks like userId 153 and 41 are tied for the bets and 139 very barely below."
   ]
  },
  {
   "cell_type": "code",
   "execution_count": 53,
   "id": "373c99d5-b525-467d-a290-b3b77c162abe",
   "metadata": {},
   "outputs": [
    {
     "data": {
      "text/plain": [
       "userId\n",
       "2      1.000000\n",
       "517    0.255092\n",
       "153    0.214824\n",
       "7      0.201478\n",
       "391    0.183342\n",
       "10     0.160946\n",
       "443    0.151273\n",
       "135    0.145801\n",
       "559    0.145801\n",
       "461    0.142544\n",
       "Name: 2, dtype: float64"
      ]
     },
     "execution_count": 53,
     "metadata": {},
     "output_type": "execute_result"
    }
   ],
   "source": [
    "# Cosine distance\n",
    "from scipy.spatial.distance import cosine\n",
    "cosine_corr = pivoted.T.corr(method=cosine)\n",
    "\n",
    "cosine_corr[2].sort_values(ascending=False).head(10)\n",
    "\n",
    "# Using cosine it looks like 517, 153, then 7 are the top. Only 153 is shared"
   ]
  },
  {
   "cell_type": "code",
   "execution_count": 137,
   "id": "84586347-0c9c-4ffb-a4b5-a7ba949ef7db",
   "metadata": {},
   "outputs": [
    {
     "data": {
      "text/plain": [
       "userId\n",
       "2      1.000000\n",
       "341    1.000000\n",
       "93     1.000000\n",
       "143    1.000000\n",
       "148    1.000000\n",
       "240    1.000000\n",
       "34     1.000000\n",
       "33     1.000000\n",
       "60     1.000000\n",
       "313    1.000000\n",
       "363    1.000000\n",
       "370    1.000000\n",
       "416    1.000000\n",
       "51     1.000000\n",
       "196    0.944911\n",
       "548    0.866025\n",
       "376    0.866025\n",
       "246    0.807573\n",
       "381    0.789474\n",
       "326    0.706366\n",
       "Name: 2, dtype: float64"
      ]
     },
     "execution_count": 137,
     "metadata": {},
     "output_type": "execute_result"
    }
   ],
   "source": [
    "# Pearson correlation\n",
    "pearson_corr = pivoted.T.corr()\n",
    "\n",
    "pearson_corr[2].sort_values(ascending=False).head(20)\n",
    "\n",
    "# Quite a few 1.00... none shared with the above distance metrics of course!"
   ]
  },
  {
   "cell_type": "code",
   "execution_count": 163,
   "id": "2501f72d-6759-4297-82ba-f9323cd470d6",
   "metadata": {},
   "outputs": [],
   "source": [
    "# Recommend a few movies for user 2 using similarity metrics.\n",
    "\n",
    "# Here is my function to do so for all 3 for any userid\n",
    "# it also prints out movies ratd 5 by the userId so I can see if my recs make sense\n",
    "def RecommendTop3(target_id, distance_method):\n",
    "    # Make sure we have this to use\n",
    "    pivoted = ratings.pivot(index='userId', columns='movieId', values='rating')\n",
    "\n",
    "    # What does the targetlike?\n",
    "    print(f'Movies rated 5 by userId {target_id}')\n",
    "    rated5 = ratings.loc[(ratings['userId'] == target_id) & (ratings['rating'] == 5)]\n",
    "    rated5 = rated5.merge(movies, on='movieId')\n",
    "    print(rated5[['title', 'genres']].head(20))\n",
    "    \n",
    "    # Correlation matrix depending on input\n",
    "    if distance_method == 'euclidean':\n",
    "        # Euclidean distance\n",
    "        from scipy.spatial.distance import euclidean\n",
    "        corr = pivoted.T.corr(method=euclidean)\n",
    "    elif distance_method == 'cosine':\n",
    "        # Cosine distance\n",
    "        from scipy.spatial.distance import cosine\n",
    "        corr = pivoted.T.corr(method=cosine)\n",
    "    elif distance_method == 'pearson':\n",
    "        # Pearson correlation\n",
    "        corr = pivoted.T.corr()\n",
    "    \n",
    "    # Find the top 10 similar userIds\n",
    "    top = pd.DataFrame(corr[target_id].sort_values(ascending=False)) #Sort by correlation\n",
    "    top = top.reset_index() # Reset index\n",
    "    top = top.iloc[1:11] # Take top 10 (#1 is target)\n",
    "    \n",
    "    # Sort movies by average score desc, # of ratings desc\n",
    "    rec = top.merge(ratings, on='userId') # merge tables\n",
    "    \n",
    "    # Remove movies seen by target already\n",
    "    targ_seenids = pd.DataFrame(ratings.loc[ratings['userId'] == target_id]['movieId'])\n",
    "    rec = rec.loc[~rec['movieId'].isin(targ_seenids['movieId'])]    \n",
    "    rec = rec.groupby('movieId')['rating'].agg(['mean', 'count']) #aggregate, take sum/count\n",
    "    \n",
    "    # talk\n",
    "    print('')\n",
    "    print(f'Top 3 movie recomendations for userId {target_id} using {distance_method} distance.')\n",
    "    print(rec.sort_values(['mean', 'count'], ascending=False).merge(movies, on='movieId').iloc[:3][['title', 'genres']])\n",
    "    \n",
    "    "
   ]
  },
  {
   "cell_type": "code",
   "execution_count": 164,
   "id": "77f2cba4-837a-4800-a705-b775cca510b3",
   "metadata": {},
   "outputs": [
    {
     "name": "stdout",
     "output_type": "stream",
     "text": [
      "Movies rated 5 by userId 2\n",
      "                                               title  \\\n",
      "0                               Step Brothers (2008)   \n",
      "1                                  Inside Job (2010)   \n",
      "2                                     Warrior (2011)   \n",
      "3                    Wolf of Wall Street, The (2013)   \n",
      "4                          Mad Max: Fury Road (2015)   \n",
      "5  The Jinx: The Life and Deaths of Robert Durst ...   \n",
      "\n",
      "                             genres  \n",
      "0                            Comedy  \n",
      "1                       Documentary  \n",
      "2                             Drama  \n",
      "3                Comedy|Crime|Drama  \n",
      "4  Action|Adventure|Sci-Fi|Thriller  \n",
      "5                       Documentary  \n",
      "\n",
      "Top 3 movie recomendations for userId 2 using cosine distance.\n",
      "                                               title  \\\n",
      "0  Like Water for Chocolate (Como agua para choco...   \n",
      "1                         Sound of Music, The (1965)   \n",
      "2                         Princess Bride, The (1987)   \n",
      "\n",
      "                                    genres  \n",
      "0                    Drama|Fantasy|Romance  \n",
      "1                          Musical|Romance  \n",
      "2  Action|Adventure|Comedy|Fantasy|Romance  \n"
     ]
    }
   ],
   "source": [
    "RecommendTop3(2, 'cosine')"
   ]
  },
  {
   "cell_type": "code",
   "execution_count": 165,
   "id": "f1f3e404-6a4c-430d-8878-58e36ef819c8",
   "metadata": {},
   "outputs": [
    {
     "name": "stdout",
     "output_type": "stream",
     "text": [
      "Movies rated 5 by userId 2\n",
      "                                               title  \\\n",
      "0                               Step Brothers (2008)   \n",
      "1                                  Inside Job (2010)   \n",
      "2                                     Warrior (2011)   \n",
      "3                    Wolf of Wall Street, The (2013)   \n",
      "4                          Mad Max: Fury Road (2015)   \n",
      "5  The Jinx: The Life and Deaths of Robert Durst ...   \n",
      "\n",
      "                             genres  \n",
      "0                            Comedy  \n",
      "1                       Documentary  \n",
      "2                             Drama  \n",
      "3                Comedy|Crime|Drama  \n",
      "4  Action|Adventure|Sci-Fi|Thriller  \n",
      "5                       Documentary  \n",
      "\n",
      "Top 3 movie recomendations for userId 2 using pearson distance.\n",
      "                                 title                 genres\n",
      "0              Schindler's List (1993)              Drama|War\n",
      "1     Silence of the Lambs, The (1991)  Crime|Horror|Thriller\n",
      "2  There's Something About Mary (1998)         Comedy|Romance\n"
     ]
    }
   ],
   "source": [
    "RecommendTop3(2, 'pearson')"
   ]
  },
  {
   "cell_type": "code",
   "execution_count": 166,
   "id": "5e1b9e25-d5a8-48fa-941e-c681e8c9a514",
   "metadata": {},
   "outputs": [
    {
     "name": "stdout",
     "output_type": "stream",
     "text": [
      "Movies rated 5 by userId 2\n",
      "                                               title  \\\n",
      "0                               Step Brothers (2008)   \n",
      "1                                  Inside Job (2010)   \n",
      "2                                     Warrior (2011)   \n",
      "3                    Wolf of Wall Street, The (2013)   \n",
      "4                          Mad Max: Fury Road (2015)   \n",
      "5  The Jinx: The Life and Deaths of Robert Durst ...   \n",
      "\n",
      "                             genres  \n",
      "0                            Comedy  \n",
      "1                       Documentary  \n",
      "2                             Drama  \n",
      "3                Comedy|Crime|Drama  \n",
      "4  Action|Adventure|Sci-Fi|Thriller  \n",
      "5                       Documentary  \n",
      "\n",
      "Top 3 movie recomendations for userId 2 using euclidean distance.\n",
      "                                 title       genres\n",
      "0                 Carlito's Way (1993)  Crime|Drama\n",
      "1  Monty Python's Life of Brian (1979)       Comedy\n",
      "2                  12 Angry Men (1957)        Drama\n"
     ]
    }
   ],
   "source": [
    "RecommendTop3(2, 'euclidean')"
   ]
  },
  {
   "cell_type": "code",
   "execution_count": 27,
   "id": "3a688fec-6a65-4e80-b7f3-76b991bf5196",
   "metadata": {},
   "outputs": [],
   "source": [
    "# Do the recommendations from this method make sense?\n",
    "# Write a short analysis of the results, and justify which similarity metric(s) you used."
   ]
  },
  {
   "cell_type": "markdown",
   "id": "43c62d79",
   "metadata": {},
   "source": [
    "# Analysis/Summary"
   ]
  },
  {
   "cell_type": "markdown",
   "id": "9d6b7d48",
   "metadata": {},
   "source": [
    "For both parts of the assignment, write a short analysis and summary of what you did, the results, and the significance. Do this in a markdown cell here at the bottom, like this one."
   ]
  },
  {
   "cell_type": "code",
   "execution_count": 168,
   "id": "eed35e82-7e44-49ad-b8bd-e65e93f1d9c3",
   "metadata": {},
   "outputs": [
    {
     "data": {
      "text/markdown": [
       "Okay so... I don't watch many movies, so I'm not 100% sure if these are similar recommendations. It seems like the cosine estimation however recommended mostly genres that weren't rated 5 by \n",
       "userId 2, while the others had genres more inline. userId 2 didn't rate a single romance genred movie a 5, yet all of the top 3 were romance movies. So I'd probably choose one of the other two\n",
       "for this situation. It was an interesting analysis - if I was going to do this myself I'd have probably approached it more as a prediction model, trying to forecast what a user would rate (and \n",
       "therefore like/dislike) based on past ratings. Not sure how different that really is in the long grand scheme of things.\n"
      ],
      "text/plain": [
       "<IPython.core.display.Markdown object>"
      ]
     },
     "metadata": {},
     "output_type": "display_data"
    }
   ],
   "source": [
    "%%markdown\n",
    "Okay so... I don't watch many movies, so I'm not 100% sure if these are similar recommendations. It seems like the cosine estimation however recommended mostly genres that weren't rated 5 by \n",
    "userId 2, while the others had genres more inline. userId 2 didn't rate a single romance genred movie a 5, yet all of the top 3 were romance movies. So I'd probably choose one of the other two\n",
    "for this situation. It was an interesting analysis - if I was going to do this myself I'd have probably approached it more as a prediction model, trying to forecast what a user would rate (and \n",
    "therefore like/dislike) based on past ratings. Not sure how different that really is in the long grand scheme of things."
   ]
  }
 ],
 "metadata": {
  "kernelspec": {
   "display_name": "Python 3",
   "language": "python",
   "name": "python3"
  },
  "language_info": {
   "codemirror_mode": {
    "name": "ipython",
    "version": 3
   },
   "file_extension": ".py",
   "mimetype": "text/x-python",
   "name": "python",
   "nbconvert_exporter": "python",
   "pygments_lexer": "ipython3",
   "version": "3.8.10"
  }
 },
 "nbformat": 4,
 "nbformat_minor": 5
}
