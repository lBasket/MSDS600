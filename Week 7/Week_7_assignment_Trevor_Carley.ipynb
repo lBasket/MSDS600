{
 "cells": [
  {
   "cell_type": "markdown",
   "id": "73fa2b84",
   "metadata": {},
   "source": [
    "# Week 7 Assignment"
   ]
  },
  {
   "cell_type": "markdown",
   "id": "f48ee1c5",
   "metadata": {},
   "source": [
    "This week we are collecting some data from Reddit and doing some basic EDA on it. You should:\n",
    "\n",
    "- create your Reddit account and API keys\n",
    "- collect data from a subreddit of your choice\n",
    "    - at a minimum, collect the posts from the subreddit; optionally collect comments on the posts\n",
    "- save the data to a SQLite3 database\n",
    "- perform some basic EDA on the data\n",
    "    - create at least 2 plots\n",
    "- write a short analysis at the end describing the process and results\n",
    "- turn in the Jupyter Notebook and PDF printout or export to the week 7 dropbox\n",
    "\n",
    "***Optional* advanced section**\n",
    "- Practice SQL queries and select a subsection of the posts you collected\n",
    "- Modify your code to collect data beyond the 1000 item limit\n",
    "- Collect comments from the posts for analysis next week and do some EDA on the comments (e.g. who is the top commenter, which commenters have the most up and down votes or most controversial posts, etc)\n",
    "- examine n-grams ([bigrams](https://stackoverflow.com/a/37651184/4549682), trigrams) or [collocations](https://www.geeksforgeeks.org/nlp-word-collocations/)\n",
    "\n",
    "Note: There is no solution file for this week."
   ]
  },
  {
   "cell_type": "code",
   "execution_count": 1,
   "id": "231a116a-86be-460c-af04-72452fb8cc07",
   "metadata": {},
   "outputs": [],
   "source": [
    "import praw\n",
    "import pandas as pd\n",
    "\n",
    "import credentials"
   ]
  },
  {
   "cell_type": "code",
   "execution_count": 2,
   "id": "7c87d583",
   "metadata": {},
   "outputs": [],
   "source": [
    "# collect data from a subreddit of your choice\n",
    "\n",
    "#     at a minimum, collect the posts from the subreddit; optionally collect comments on the posts\n",
    "\n",
    "reddit = praw.Reddit(client_id=credentials.client_id,\n",
    "                     client_secret=credentials.client_secret,\n",
    "                     user_agent=credentials.user_agent)"
   ]
  },
  {
   "cell_type": "code",
   "execution_count": 3,
   "id": "1c9e5829-9daf-40e3-8f74-725cdd84581e",
   "metadata": {},
   "outputs": [],
   "source": [
    "jris_posts = reddit.subreddit('justrolledintotheshop').hot(limit=None)"
   ]
  },
  {
   "cell_type": "code",
   "execution_count": 4,
   "id": "005539b6-67c6-4caf-a8c7-aef394eb7552",
   "metadata": {},
   "outputs": [],
   "source": [
    "jris_posts = list(jris_posts)"
   ]
  },
  {
   "cell_type": "code",
   "execution_count": 5,
   "id": "c19a54ed-c8cc-4257-9b39-bfc4b7f3f6b5",
   "metadata": {},
   "outputs": [],
   "source": [
    "# from praw.models import MoreComments\n",
    "\n",
    "# for post in jris_posts:\n",
    "#     post.comments.replace_more(limit=1)"
   ]
  },
  {
   "cell_type": "code",
   "execution_count": 6,
   "id": "71042e07-2965-480e-aeaa-ec153dd5aef9",
   "metadata": {},
   "outputs": [
    {
     "ename": "SyntaxError",
     "evalue": "invalid syntax (<ipython-input-6-c6f99281966b>, line 1)",
     "output_type": "error",
     "traceback": [
      "\u001b[0;36m  File \u001b[0;32m\"<ipython-input-6-c6f99281966b>\"\u001b[0;36m, line \u001b[0;32m1\u001b[0m\n\u001b[0;31m    jris_posts[3].\u001b[0m\n\u001b[0m                  ^\u001b[0m\n\u001b[0;31mSyntaxError\u001b[0m\u001b[0;31m:\u001b[0m invalid syntax\n"
     ]
    }
   ],
   "source": [
    "jris_posts[3]."
   ]
  },
  {
   "cell_type": "code",
   "execution_count": 7,
   "id": "4304711e-2ca1-41f2-8de0-6554124518ba",
   "metadata": {},
   "outputs": [],
   "source": [
    "temp = jris_posts.copy()\n",
    "\n",
    "# save the data to a SQLite3 database\n",
    "jris_posts_dict = {\n",
    "    'id' : [],\n",
    "    'title' : [],\n",
    "    'link' : [],\n",
    "    'flair' : [],\n",
    "    'author' : [],\n",
    "    'n_comments' : [],\n",
    "    'score' : [],\n",
    "    'text' : []\n",
    "}\n",
    "\n",
    "\n",
    "for post in temp:\n",
    "    jris_posts_dict['id'].append(post.id)\n",
    "    jris_posts_dict['title'].append(post.title)\n",
    "    jris_posts_dict['link'].append(post.permalink)\n",
    "    jris_posts_dict['flair'].append(post.link_flair_text)\n",
    "    if post.author is None:\n",
    "        jris_posts_dict['author'].append('')\n",
    "    else:\n",
    "        jris_posts_dict['author'].append(post.author.name)\n",
    "    \n",
    "    if post.num_comments is None:\n",
    "        jris_posts_dict['n_comments'].append(0)\n",
    "    else:\n",
    "        jris_posts_dict['n_comments'].append(post.num_comments)\n",
    "        \n",
    "    jris_posts_dict['score'].append(post.score)\n",
    "    jris_posts_dict['text'].append(post.selftext)"
   ]
  },
  {
   "cell_type": "code",
   "execution_count": 8,
   "id": "53ef2d27-f3a5-4951-99f8-cd72bd69e96d",
   "metadata": {},
   "outputs": [],
   "source": [
    "jris_posts_df = pd.DataFrame(jris_posts_dict)"
   ]
  },
  {
   "cell_type": "code",
   "execution_count": 23,
   "id": "2c79cafa-d2e5-4c54-9ffd-b4517d209397",
   "metadata": {},
   "outputs": [],
   "source": [
    "import sqlite3\n",
    "\n",
    "con = sqlite3.connect('./data/jris_dataset.sqlite')\n",
    "jris_posts_df.to_sql('posts', con, if_exists='replace', index=False)"
   ]
  },
  {
   "cell_type": "code",
   "execution_count": 9,
   "id": "e8cd0d87-6d49-45ae-834c-98feac9dbd04",
   "metadata": {},
   "outputs": [
    {
     "data": {
      "text/html": [
       "<div>\n",
       "<style scoped>\n",
       "    .dataframe tbody tr th:only-of-type {\n",
       "        vertical-align: middle;\n",
       "    }\n",
       "\n",
       "    .dataframe tbody tr th {\n",
       "        vertical-align: top;\n",
       "    }\n",
       "\n",
       "    .dataframe thead th {\n",
       "        text-align: right;\n",
       "    }\n",
       "</style>\n",
       "<table border=\"1\" class=\"dataframe\">\n",
       "  <thead>\n",
       "    <tr style=\"text-align: right;\">\n",
       "      <th></th>\n",
       "      <th>id</th>\n",
       "      <th>title</th>\n",
       "      <th>link</th>\n",
       "      <th>flair</th>\n",
       "      <th>author</th>\n",
       "      <th>n_comments</th>\n",
       "      <th>score</th>\n",
       "      <th>text</th>\n",
       "    </tr>\n",
       "  </thead>\n",
       "  <tbody>\n",
       "    <tr>\n",
       "      <th>0</th>\n",
       "      <td>6kuoc5</td>\n",
       "      <td>Original Content ONLY</td>\n",
       "      <td>/r/Justrolledintotheshop/comments/6kuoc5/origi...</td>\n",
       "      <td>None</td>\n",
       "      <td>tractorferret</td>\n",
       "      <td>2</td>\n",
       "      <td>7088</td>\n",
       "      <td>There seems to be a recent influx of posts fro...</td>\n",
       "    </tr>\n",
       "    <tr>\n",
       "      <th>1</th>\n",
       "      <td>iw8g4a</td>\n",
       "      <td>1 mil subs+need to clear some things up</td>\n",
       "      <td>/r/Justrolledintotheshop/comments/iw8g4a/1_mil...</td>\n",
       "      <td>None</td>\n",
       "      <td>tractorferret</td>\n",
       "      <td>0</td>\n",
       "      <td>1049</td>\n",
       "      <td>First of all, congratulations on 1 million sub...</td>\n",
       "    </tr>\n",
       "    <tr>\n",
       "      <th>2</th>\n",
       "      <td>p4sv13</td>\n",
       "      <td>“Pure Michigan”</td>\n",
       "      <td>/r/Justrolledintotheshop/comments/p4sv13/pure_...</td>\n",
       "      <td>None</td>\n",
       "      <td>trashlordcommander</td>\n",
       "      <td>370</td>\n",
       "      <td>3196</td>\n",
       "      <td></td>\n",
       "    </tr>\n",
       "    <tr>\n",
       "      <th>3</th>\n",
       "      <td>p4jyyv</td>\n",
       "      <td>Gross. 2004 Lincoln Navigator I swapped an alt...</td>\n",
       "      <td>/r/Justrolledintotheshop/comments/p4jyyv/gross...</td>\n",
       "      <td>None</td>\n",
       "      <td>immrfixit92</td>\n",
       "      <td>234</td>\n",
       "      <td>1743</td>\n",
       "      <td></td>\n",
       "    </tr>\n",
       "    <tr>\n",
       "      <th>4</th>\n",
       "      <td>p4jy4u</td>\n",
       "      <td>1/4” bolts in 1/2” holes? It only holds on the...</td>\n",
       "      <td>/r/Justrolledintotheshop/comments/p4jy4u/14_bo...</td>\n",
       "      <td>None</td>\n",
       "      <td>puerh_lover</td>\n",
       "      <td>84</td>\n",
       "      <td>995</td>\n",
       "      <td></td>\n",
       "    </tr>\n",
       "  </tbody>\n",
       "</table>\n",
       "</div>"
      ],
      "text/plain": [
       "       id                                              title  \\\n",
       "0  6kuoc5                              Original Content ONLY   \n",
       "1  iw8g4a            1 mil subs+need to clear some things up   \n",
       "2  p4sv13                                    “Pure Michigan”   \n",
       "3  p4jyyv  Gross. 2004 Lincoln Navigator I swapped an alt...   \n",
       "4  p4jy4u  1/4” bolts in 1/2” holes? It only holds on the...   \n",
       "\n",
       "                                                link flair  \\\n",
       "0  /r/Justrolledintotheshop/comments/6kuoc5/origi...  None   \n",
       "1  /r/Justrolledintotheshop/comments/iw8g4a/1_mil...  None   \n",
       "2  /r/Justrolledintotheshop/comments/p4sv13/pure_...  None   \n",
       "3  /r/Justrolledintotheshop/comments/p4jyyv/gross...  None   \n",
       "4  /r/Justrolledintotheshop/comments/p4jy4u/14_bo...  None   \n",
       "\n",
       "               author  n_comments  score  \\\n",
       "0       tractorferret           2   7088   \n",
       "1       tractorferret           0   1049   \n",
       "2  trashlordcommander         370   3196   \n",
       "3         immrfixit92         234   1743   \n",
       "4         puerh_lover          84    995   \n",
       "\n",
       "                                                text  \n",
       "0  There seems to be a recent influx of posts fro...  \n",
       "1  First of all, congratulations on 1 million sub...  \n",
       "2                                                     \n",
       "3                                                     \n",
       "4                                                     "
      ]
     },
     "execution_count": 9,
     "metadata": {},
     "output_type": "execute_result"
    }
   ],
   "source": [
    "jris_posts_df.head()"
   ]
  },
  {
   "cell_type": "code",
   "execution_count": 20,
   "id": "2ecb9d9b-5485-4ff8-9d59-16bf88c67cb5",
   "metadata": {},
   "outputs": [
    {
     "name": "stdout",
     "output_type": "stream",
     "text": [
      "<class 'pandas.core.frame.DataFrame'>\n",
      "RangeIndex: 958 entries, 0 to 957\n",
      "Data columns (total 8 columns):\n",
      " #   Column      Non-Null Count  Dtype \n",
      "---  ------      --------------  ----- \n",
      " 0   id          958 non-null    object\n",
      " 1   title       958 non-null    object\n",
      " 2   link        958 non-null    object\n",
      " 3   flair       0 non-null      object\n",
      " 4   author      958 non-null    object\n",
      " 5   n_comments  958 non-null    int64 \n",
      " 6   score       958 non-null    int64 \n",
      " 7   text        958 non-null    object\n",
      "dtypes: int64(2), object(6)\n",
      "memory usage: 60.0+ KB\n"
     ]
    }
   ],
   "source": [
    "jris_posts_df.info()"
   ]
  },
  {
   "cell_type": "code",
   "execution_count": 10,
   "id": "a542cf4a-887b-49e3-ae6e-de1dcf7e515f",
   "metadata": {},
   "outputs": [
    {
     "name": "stderr",
     "output_type": "stream",
     "text": [
      "[nltk_data] Downloading package stopwords to /home/basket/nltk_data...\n",
      "[nltk_data]   Package stopwords is already up-to-date!\n"
     ]
    },
    {
     "data": {
      "text/plain": [
       "True"
      ]
     },
     "execution_count": 10,
     "metadata": {},
     "output_type": "execute_result"
    }
   ],
   "source": [
    "import nltk\n",
    "nltk.download('stopwords')"
   ]
  },
  {
   "cell_type": "code",
   "execution_count": 11,
   "id": "5fcf5e0a-c25d-45c5-b910-173b3317ddb6",
   "metadata": {},
   "outputs": [
    {
     "data": {
      "text/plain": [
       "[('the', 406),\n",
       " ('a', 340),\n",
       " ('to', 227),\n",
       " ('in', 176),\n",
       " ('and', 174),\n",
       " ('I', 161),\n",
       " ('for', 130),\n",
       " ('of', 127),\n",
       " ('this', 120),\n",
       " ('it', 117),\n",
       " ('on', 107),\n",
       " ('is', 88),\n",
       " ('my', 80),\n",
       " ('with', 67),\n",
       " ('you', 60),\n",
       " ('just', 59),\n",
       " ('was', 56),\n",
       " ('out', 54),\n",
       " ('C/S', 54),\n",
       " ('Customer', 53)]"
      ]
     },
     "execution_count": 11,
     "metadata": {},
     "output_type": "execute_result"
    }
   ],
   "source": [
    "fd = nltk.FreqDist(' '.join(jris_posts_df['title']).split())\n",
    "\n",
    "fd.most_common(20)"
   ]
  },
  {
   "cell_type": "code",
   "execution_count": 12,
   "id": "f3d132f1-e3c4-4179-837c-ed612c073e45",
   "metadata": {},
   "outputs": [
    {
     "data": {
      "image/png": "[encoded data removed]",
      "text/plain": [
       "<Figure size 432x288 with 1 Axes>"
      ]
     },
     "metadata": {
      "needs_background": "light"
     },
     "output_type": "display_data"
    },
    {
     "data": {
      "text/plain": [
       "<AxesSubplot:xlabel='Samples', ylabel='Counts'>"
      ]
     },
     "execution_count": 12,
     "metadata": {},
     "output_type": "execute_result"
    }
   ],
   "source": [
    "fd.plot(20)"
   ]
  },
  {
   "cell_type": "code",
   "execution_count": 13,
   "id": "b736bcee-c51f-4d20-bd35-4693f1322dca",
   "metadata": {},
   "outputs": [
    {
     "name": "stderr",
     "output_type": "stream",
     "text": [
      "[nltk_data] Downloading package stopwords to /home/basket/nltk_data...\n",
      "[nltk_data]   Package stopwords is already up-to-date!\n"
     ]
    },
    {
     "data": {
      "text/plain": [
       "True"
      ]
     },
     "execution_count": 13,
     "metadata": {},
     "output_type": "execute_result"
    }
   ],
   "source": [
    "nltk.download('stopwords')"
   ]
  },
  {
   "cell_type": "code",
   "execution_count": 14,
   "id": "c146ba76-db54-4009-9525-4a551a3e0ac0",
   "metadata": {},
   "outputs": [],
   "source": [
    "from nltk.corpus import stopwords\n",
    "\n",
    "stops = stopwords.words('english')\n",
    "words = ' '.join(jris_posts_df['title']).lower().split()\n",
    "cleaned_words = [w for w in words if w not in set(stops)]"
   ]
  },
  {
   "cell_type": "code",
   "execution_count": 15,
   "id": "f818d414-7b16-4cd5-8929-4eaf5f5b110f",
   "metadata": {},
   "outputs": [
    {
     "data": {
      "text/plain": [
       "[('customer', 73),\n",
       " ('c/s', 58),\n",
       " ('new', 55),\n",
       " ('shop', 54),\n",
       " ('rolled', 51),\n",
       " ('car', 44),\n",
       " ('got', 41),\n",
       " ('like', 38),\n",
       " ('one', 36),\n",
       " ('oil', 34),\n",
       " ('came', 29),\n",
       " ('work', 29),\n",
       " ('get', 28),\n",
       " ('engine', 24),\n",
       " ('back', 23),\n",
       " ('air', 22),\n",
       " ('still', 22),\n",
       " ('found', 21),\n",
       " ('states', 21),\n",
       " ('check', 20)]"
      ]
     },
     "execution_count": 15,
     "metadata": {},
     "output_type": "execute_result"
    }
   ],
   "source": [
    "cleaned_fd = nltk.FreqDist(cleaned_words)\n",
    "cleaned_fd.most_common(20)"
   ]
  },
  {
   "cell_type": "code",
   "execution_count": 24,
   "id": "1779dca7-5040-47f6-b699-ec368de6edcc",
   "metadata": {},
   "outputs": [
    {
     "data": {
      "image/png": "[encoded data removed]",
      "text/plain": [
       "<Figure size 432x288 with 1 Axes>"
      ]
     },
     "metadata": {
      "needs_background": "light"
     },
     "output_type": "display_data"
    },
    {
     "data": {
      "text/plain": [
       "<AxesSubplot:xlabel='Samples', ylabel='Counts'>"
      ]
     },
     "execution_count": 24,
     "metadata": {},
     "output_type": "execute_result"
    }
   ],
   "source": [
    "cleaned_fd.plot(30)"
   ]
  },
  {
   "cell_type": "code",
   "execution_count": 17,
   "id": "9ee47e24-1e10-43e1-9f82-d39fb4ec8972",
   "metadata": {},
   "outputs": [
    {
     "data": {
      "text/plain": [
       "array([[<AxesSubplot:xlabel='n_comments', ylabel='n_comments'>,\n",
       "        <AxesSubplot:xlabel='score', ylabel='n_comments'>],\n",
       "       [<AxesSubplot:xlabel='n_comments', ylabel='score'>,\n",
       "        <AxesSubplot:xlabel='score', ylabel='score'>]], dtype=object)"
      ]
     },
     "execution_count": 17,
     "metadata": {},
     "output_type": "execute_result"
    },
    {
     "data": {
      "image/png": "[encoded data removed]",
      "text/plain": [
       "<Figure size 432x288 with 4 Axes>"
      ]
     },
     "metadata": {
      "needs_background": "light"
     },
     "output_type": "display_data"
    }
   ],
   "source": [
    "# perform some basic EDA on the data\n",
    "\n",
    "#     create at least 2 plots\n",
    "\n",
    "pd.plotting.scatter_matrix(jris_posts_df)"
   ]
  },
  {
   "cell_type": "code",
   "execution_count": 18,
   "id": "2a3c2075-364e-41be-a7c7-99af337e97ee",
   "metadata": {},
   "outputs": [
    {
     "data": {
      "text/plain": [
       "<AxesSubplot:>"
      ]
     },
     "execution_count": 18,
     "metadata": {},
     "output_type": "execute_result"
    },
    {
     "data": {
      "image/png": "[encoded data removed]",
      "text/plain": [
       "<Figure size 432x288 with 1 Axes>"
      ]
     },
     "metadata": {
      "needs_background": "light"
     },
     "output_type": "display_data"
    }
   ],
   "source": [
    "jris_posts_df['author'].value_counts()[:10].plot.bar()"
   ]
  },
  {
   "cell_type": "code",
   "execution_count": 21,
   "id": "c023183d-280a-42a0-ba0a-3202a27bbec1",
   "metadata": {},
   "outputs": [
    {
     "data": {
      "text/plain": [
       "3      Gross. 2004 Lincoln Navigator I swapped an alt...\n",
       "132    My daddy's a mechanic!.... k Yes that crap was...\n",
       "152    2015 Ford F350 brake job. Looks like this truc...\n",
       "214    2011 Avalanche came in for a tire. Had only 3 ...\n",
       "251    How to professionally undercoat your prized tr...\n",
       "263    2018 Ram 1500 in for alignment.... C/S Check t...\n",
       "592    Every now and then I award the \"Dumbest Design...\n",
       "685    They drove 11hrs. Needed tires, and I find thi...\n",
       "727    Another poster reminded me of this gem from a ...\n",
       "757    2012 Malibu. C/S I hit a curb. I need an align...\n",
       "766    C/S I need an alignment. My tire is wearing ba...\n",
       "771    Some days I love my job. I got to work on this...\n",
       "787    Enough people asked for the Camaro running. So...\n",
       "894    People drive this crap. Sometimes I wish state...\n",
       "904                        Let's play spot the problems!\n",
       "Name: title, dtype: object"
      ]
     },
     "execution_count": 21,
     "metadata": {},
     "output_type": "execute_result"
    }
   ],
   "source": [
    "jris_posts_df['title'].loc[jris_posts_df['author']=='immrfixit92']"
   ]
  },
  {
   "cell_type": "markdown",
   "id": "ec5fce48",
   "metadata": {},
   "source": [
    "# Analysis"
   ]
  },
  {
   "cell_type": "markdown",
   "id": "ed918e12",
   "metadata": {},
   "source": [
    "I was honestly surprised how easy it was to parse the reddit data; the nltk package made it so\n",
    "easy to make sense of the titles by removing all the \"stopwords\". I have never heard that term\n",
    "before so it would've been hard to come across on my own. I saved my data to a sqlite database\n",
    "but still did my manipulations in pandas, I'm pretty comfortable with SQL but I feel like if\n",
    "you've already got the data in the dataframe...\n",
    "\n",
    "The subreddit I chose is JustRolledIntoTheShop, which is basically just crazy cars in awful\n",
    "condition of some kind coming into the mechanic. A joke subreddit. It is funny to see all the\n",
    "words you'd expect like brake, oil, engine, etc. Customer and C/S (customer says) are on the \n",
    "very top, which is funny because people are cracking jokes on what the customer said when\n",
    "dropping the car off.\n",
    "\n",
    "I was honestly hoping to see some mention of a certain car make or model. Thought that might be funny to see it show up more often than others but unfortunately the most common terms are just more general car parts, although that does make sense."
   ]
  }
 ],
 "metadata": {
  "kernelspec": {
   "display_name": "Python 3",
   "language": "python",
   "name": "python3"
  },
  "language_info": {
   "codemirror_mode": {
    "name": "ipython",
    "version": 3
   },
   "file_extension": ".py",
   "mimetype": "text/x-python",
   "name": "python",
   "nbconvert_exporter": "python",
   "pygments_lexer": "ipython3",
   "version": "3.8.10"
  }
 },
 "nbformat": 4,
 "nbformat_minor": 5
}
